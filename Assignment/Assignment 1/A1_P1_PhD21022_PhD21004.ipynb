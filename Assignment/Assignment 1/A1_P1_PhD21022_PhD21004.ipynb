{
  "nbformat": 4,
  "nbformat_minor": 0,
  "metadata": {
    "colab": {
      "name": "A1_P1_PhD21022_PhD21004.ipynb",
      "provenance": [],
      "collapsed_sections": [],
      "authorship_tag": "ABX9TyMb21En4ozTszNWAzqHqLRg",
      "include_colab_link": true
    },
    "kernelspec": {
      "name": "python3",
      "display_name": "Python 3"
    },
    "language_info": {
      "name": "python"
    }
  },
  "cells": [
    {
      "cell_type": "markdown",
      "metadata": {
        "id": "view-in-github",
        "colab_type": "text"
      },
      "source": [
        "<a href=\"https://colab.research.google.com/github/shyamsastha/CSE641-DL/blob/main/Assignment/Assignment%201/A1_P1_PhD21022_PhD21004.ipynb\" target=\"_parent\"><img src=\"https://colab.research.google.com/assets/colab-badge.svg\" alt=\"Open In Colab\"/></a>"
      ]
    },
    {
      "cell_type": "code",
      "execution_count": 5,
      "metadata": {
        "id": "10FrmBDDQWEe"
      },
      "outputs": [],
      "source": [
        "# CSE641 - Deep Learning - Assignment 1\n",
        "# PART I: Perceptron Training Algorithm\n",
        "\n",
        "# imports\n",
        "#import tensorflow as tf\n",
        "import matplotlib.pyplot as plt\n",
        "import numpy as np\n"
      ]
    },
    {
      "cell_type": "code",
      "source": [
        "# Implementation of PTA\n"
      ],
      "metadata": {
        "id": "9Ekb_nEhYmii"
      },
      "execution_count": null,
      "outputs": []
    }
  ]
}